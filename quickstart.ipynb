{
 "cells": [
  {
   "cell_type": "code",
   "execution_count": 1,
   "metadata": {
    "tags": []
   },
   "outputs": [],
   "source": [
    "import os\n",
    "import datetime\n",
    "\n",
    "import pyspark\n",
    "from pyspark.sql.types import *\n",
    "from pyspark.sql.functions import *"
   ]
  },
  {
   "cell_type": "code",
   "execution_count": 2,
   "metadata": {},
   "outputs": [],
   "source": [
    "builder = pyspark.sql.SparkSession.builder.appName(\"MyApp\") \\\n",
    "    .config(\"spark.jars.packages\", \"org.apache.hudi:hudi-spark3.3-bundle_2.12:0.12.0\") \\\n",
    "    .config(\"spark.sql.extensions\", \"org.apache.spark.sql.hudi.HoodieSparkSessionExtension\") \\\n",
    "    .config(\"spark.sql.catalog.spark_catalog\", \"org.apache.spark.sql.hudi.catalog.HoodieCatalog\") \\\n",
    "    .config(\"spark.serializer\", \"org.apache.spark.serializer.KryoSerializer\")"
   ]
  },
  {
   "cell_type": "code",
   "execution_count": null,
   "metadata": {},
   "outputs": [],
   "source": [
    "spark = builder.getOrCreate()\n",
    "# It might take briefly to start the Spark process.\n",
    "# Wait for some output below to let the Spark fully started."
   ]
  },
  {
   "cell_type": "code",
   "execution_count": null,
   "metadata": {},
   "outputs": [],
   "source": [
    "spark"
   ]
  },
  {
   "cell_type": "code",
   "execution_count": 5,
   "metadata": {},
   "outputs": [],
   "source": [
    "tblname = \"tripstbl\"\n",
    "tblpath = \"file://\" + os.getcwd() + \"/out/tripstbl\"\n",
    "sc = spark.sparkContext"
   ]
  },
  {
   "cell_type": "code",
   "execution_count": 6,
   "metadata": {},
   "outputs": [],
   "source": [
    "# generate Trips data\n",
    "data_gen = sc._jvm.org.apache.hudi.QuickstartUtils.DataGenerator()\n",
    "data_inserts = sc._jvm.org.apache.hudi.QuickstartUtils.convertToStringList(data_gen.generateInserts(10))"
   ]
  },
  {
   "cell_type": "code",
   "execution_count": 7,
   "metadata": {},
   "outputs": [
    {
     "data": {
      "text/plain": [
       "['{\"ts\": 1663432923115, \"uuid\": \"ae4c3ed5-d4b7-48ff-94a7-af420eb9eeb1\", \"rider\": \"rider-213\", \"driver\": \"driver-213\", \"begin_lat\": 0.4726905879569653, \"begin_lon\": 0.46157858450465483, \"end_lat\": 0.754803407008858, \"end_lon\": 0.9671159942018241, \"fare\": 34.158284716382845, \"partitionpath\": \"americas/brazil/sao_paulo\"}', '{\"ts\": 1663441613239, \"uuid\": \"cb64f561-b013-4e12-b951-89d2a3fabd18\", \"rider\": \"rider-213\", \"driver\": \"driver-213\", \"begin_lat\": 0.6100070562136587, \"begin_lon\": 0.8779402295427752, \"end_lat\": 0.3407870505929602, \"end_lon\": 0.5030798142293655, \"fare\": 43.4923811219014, \"partitionpath\": \"americas/brazil/sao_paulo\"}', '{\"ts\": 1663271105357, \"uuid\": \"5ec24811-45cf-42f0-af44-ab1569b41e7e\", \"rider\": \"rider-213\", \"driver\": \"driver-213\", \"begin_lat\": 0.5731835407930634, \"begin_lon\": 0.4923479652912024, \"end_lat\": 0.08988581780930216, \"end_lon\": 0.42520899698713666, \"fare\": 64.27696295884016, \"partitionpath\": \"americas/united_states/san_francisco\"}', '{\"ts\": 1662978858494, \"uuid\": \"d7ffede2-cbe4-4c88-bf00-1b0a04c4af8c\", \"rider\": \"rider-213\", \"driver\": \"driver-213\", \"begin_lat\": 0.21624150367601136, \"begin_lon\": 0.14285051259466197, \"end_lat\": 0.5890949624813784, \"end_lon\": 0.0966823831927115, \"fare\": 93.56018115236618, \"partitionpath\": \"americas/united_states/san_francisco\"}', '{\"ts\": 1663239335081, \"uuid\": \"e782c951-458b-4d31-970d-7b7fcacbc21e\", \"rider\": \"rider-213\", \"driver\": \"driver-213\", \"begin_lat\": 0.40613510977307, \"begin_lon\": 0.5644092139040959, \"end_lat\": 0.798706304941517, \"end_lon\": 0.02698359227182834, \"fare\": 17.851135255091155, \"partitionpath\": \"asia/india/chennai\"}', '{\"ts\": 1663185693754, \"uuid\": \"a4f6cc61-e81f-4632-b939-54919faaff28\", \"rider\": \"rider-213\", \"driver\": \"driver-213\", \"begin_lat\": 0.8742041526408587, \"begin_lon\": 0.7528268153249502, \"end_lat\": 0.9197827128888302, \"end_lon\": 0.362464770874404, \"fare\": 19.179139106643607, \"partitionpath\": \"americas/united_states/san_francisco\"}', '{\"ts\": 1663335845880, \"uuid\": \"30c19156-4e9a-4138-ae9f-b989a24aadf6\", \"rider\": \"rider-213\", \"driver\": \"driver-213\", \"begin_lat\": 0.1856488085068272, \"begin_lon\": 0.9694586417848392, \"end_lat\": 0.38186367037201974, \"end_lon\": 0.25252652214479043, \"fare\": 33.92216483948643, \"partitionpath\": \"americas/united_states/san_francisco\"}', '{\"ts\": 1663413757285, \"uuid\": \"b864dc6f-fc04-465a-809a-b7f22ac71641\", \"rider\": \"rider-213\", \"driver\": \"driver-213\", \"begin_lat\": 0.0750588760043035, \"begin_lon\": 0.03844104444445928, \"end_lat\": 0.04376353354538354, \"end_lon\": 0.6346040067610669, \"fare\": 66.62084366450246, \"partitionpath\": \"americas/brazil/sao_paulo\"}', '{\"ts\": 1663409926472, \"uuid\": \"16ea150b-a822-44d6-b240-421eb9da0d29\", \"rider\": \"rider-213\", \"driver\": \"driver-213\", \"begin_lat\": 0.651058505660742, \"begin_lon\": 0.8192868687714224, \"end_lat\": 0.20714896002914462, \"end_lon\": 0.06224031095826987, \"fare\": 41.06290929046368, \"partitionpath\": \"asia/india/chennai\"}', '{\"ts\": 1663507472596, \"uuid\": \"0c74c29c-d53f-4840-a40a-5fb9d90d4a11\", \"rider\": \"rider-213\", \"driver\": \"driver-213\", \"begin_lat\": 0.11488393157088261, \"begin_lon\": 0.6273212202489661, \"end_lat\": 0.7454678537511295, \"end_lon\": 0.3954939864908973, \"fare\": 27.79478688582596, \"partitionpath\": \"americas/united_states/san_francisco\"}']"
      ]
     },
     "execution_count": 7,
     "metadata": {},
     "output_type": "execute_result"
    }
   ],
   "source": [
    "data_inserts"
   ]
  },
  {
   "cell_type": "code",
   "execution_count": 8,
   "metadata": {},
   "outputs": [
    {
     "data": {
      "text/plain": [
       "py4j.java_collections.JavaList"
      ]
     },
     "execution_count": 8,
     "metadata": {},
     "output_type": "execute_result"
    }
   ],
   "source": [
    "type(data_inserts)"
   ]
  },
  {
   "cell_type": "code",
   "execution_count": null,
   "metadata": {},
   "outputs": [],
   "source": [
    "# read back into Python PySpark dataframe\n",
    "df = spark.read.json(sc.parallelize(data_inserts, 2))\n",
    "# wait for moment to let Spark process finish\n",
    "# should observe loading progress bar below as cell output"
   ]
  },
  {
   "cell_type": "code",
   "execution_count": 10,
   "metadata": {},
   "outputs": [
    {
     "data": {
      "text/plain": [
       "pyspark.sql.dataframe.DataFrame"
      ]
     },
     "execution_count": 10,
     "metadata": {},
     "output_type": "execute_result"
    }
   ],
   "source": [
    "type(df)"
   ]
  },
  {
   "cell_type": "code",
   "execution_count": 11,
   "metadata": {},
   "outputs": [
    {
     "data": {
      "text/plain": [
       "DataFrame[begin_lat: double, begin_lon: double, driver: string, end_lat: double, end_lon: double, fare: double, partitionpath: string, rider: string, ts: bigint, uuid: string]"
      ]
     },
     "execution_count": 11,
     "metadata": {},
     "output_type": "execute_result"
    }
   ],
   "source": [
    "df"
   ]
  },
  {
   "cell_type": "code",
   "execution_count": 12,
   "metadata": {},
   "outputs": [
    {
     "name": "stdout",
     "output_type": "stream",
     "text": [
      "root\n",
      " |-- begin_lat: double (nullable = true)\n",
      " |-- begin_lon: double (nullable = true)\n",
      " |-- driver: string (nullable = true)\n",
      " |-- end_lat: double (nullable = true)\n",
      " |-- end_lon: double (nullable = true)\n",
      " |-- fare: double (nullable = true)\n",
      " |-- partitionpath: string (nullable = true)\n",
      " |-- rider: string (nullable = true)\n",
      " |-- ts: long (nullable = true)\n",
      " |-- uuid: string (nullable = true)\n",
      "\n"
     ]
    }
   ],
   "source": [
    "df.printSchema()"
   ]
  },
  {
   "cell_type": "code",
   "execution_count": 13,
   "metadata": {},
   "outputs": [
    {
     "name": "stdout",
     "output_type": "stream",
     "text": [
      "+-------------------+-------------------+----------+-------------------+-------------------+------------------+--------------------+---------+-------------+--------------------+\n",
      "|          begin_lat|          begin_lon|    driver|            end_lat|            end_lon|              fare|       partitionpath|    rider|           ts|                uuid|\n",
      "+-------------------+-------------------+----------+-------------------+-------------------+------------------+--------------------+---------+-------------+--------------------+\n",
      "| 0.4726905879569653|0.46157858450465483|driver-213|  0.754803407008858| 0.9671159942018241|34.158284716382845|americas/brazil/s...|rider-213|1663432923115|ae4c3ed5-d4b7-48f...|\n",
      "| 0.6100070562136587| 0.8779402295427752|driver-213| 0.3407870505929602| 0.5030798142293655|  43.4923811219014|americas/brazil/s...|rider-213|1663441613239|cb64f561-b013-4e1...|\n",
      "| 0.5731835407930634| 0.4923479652912024|driver-213|0.08988581780930216|0.42520899698713666| 64.27696295884016|americas/united_s...|rider-213|1663271105357|5ec24811-45cf-42f...|\n",
      "|0.21624150367601136|0.14285051259466197|driver-213| 0.5890949624813784| 0.0966823831927115| 93.56018115236618|americas/united_s...|rider-213|1662978858494|d7ffede2-cbe4-4c8...|\n",
      "|   0.40613510977307| 0.5644092139040959|driver-213|  0.798706304941517|0.02698359227182834|17.851135255091155|  asia/india/chennai|rider-213|1663239335081|e782c951-458b-4d3...|\n",
      "| 0.8742041526408587| 0.7528268153249502|driver-213| 0.9197827128888302|  0.362464770874404|19.179139106643607|americas/united_s...|rider-213|1663185693754|a4f6cc61-e81f-463...|\n",
      "| 0.1856488085068272| 0.9694586417848392|driver-213|0.38186367037201974|0.25252652214479043| 33.92216483948643|americas/united_s...|rider-213|1663335845880|30c19156-4e9a-413...|\n",
      "| 0.0750588760043035|0.03844104444445928|driver-213|0.04376353354538354| 0.6346040067610669| 66.62084366450246|americas/brazil/s...|rider-213|1663413757285|b864dc6f-fc04-465...|\n",
      "|  0.651058505660742| 0.8192868687714224|driver-213|0.20714896002914462|0.06224031095826987| 41.06290929046368|  asia/india/chennai|rider-213|1663409926472|16ea150b-a822-44d...|\n",
      "|0.11488393157088261| 0.6273212202489661|driver-213| 0.7454678537511295| 0.3954939864908973| 27.79478688582596|americas/united_s...|rider-213|1663507472596|0c74c29c-d53f-484...|\n",
      "+-------------------+-------------------+----------+-------------------+-------------------+------------------+--------------------+---------+-------------+--------------------+\n",
      "\n"
     ]
    }
   ],
   "source": [
    "df.show()"
   ]
  },
  {
   "cell_type": "code",
   "execution_count": 14,
   "metadata": {},
   "outputs": [],
   "source": [
    "# now let write it out this in-memory dataframe into Hudi table\n",
    "# in the following, we will do insert and update a Hudi table of default table type: Copy on Write\n",
    "# https://hudi.apache.org/docs/table_types/#copy-on-write-table\n",
    "\n",
    "# observe that how we use raw data fields \"uuid\", \"ts\", \"partitionpath\"\n",
    "# map to table options for those Hudi table mandatory keys\n",
    "# https://hudi.apache.org/docs/writing_data/\n",
    "\n",
    "hudi_options = {\n",
    "    'hoodie.table.name': tblname,\n",
    "    'hoodie.datasource.write.recordkey.field': 'uuid',\n",
    "    'hoodie.datasource.write.partitionpath.field': 'partitionpath',\n",
    "    'hoodie.datasource.write.table.name': tblname,\n",
    "    'hoodie.datasource.write.operation': 'upsert',\n",
    "    'hoodie.datasource.write.precombine.field': 'ts',\n",
    "    'hoodie.upsert.shuffle.parallelism': 2,\n",
    "    'hoodie.insert.shuffle.parallelism': 2\n",
    "}"
   ]
  },
  {
   "cell_type": "code",
   "execution_count": null,
   "metadata": {},
   "outputs": [],
   "source": [
    "df.write.format(\"hudi\").options(**hudi_options).mode(\"overwrite\").save(tblpath)\n",
    "# wait for moment to let Spark process finish\n",
    "# should observe loading progress bar below as cell output"
   ]
  },
  {
   "cell_type": "code",
   "execution_count": null,
   "metadata": {},
   "outputs": [],
   "source": [
    "# should see 'tripstbl' folder created within 'out' directory\n",
    "!ls -al out/"
   ]
  },
  {
   "cell_type": "code",
   "execution_count": 17,
   "metadata": {},
   "outputs": [],
   "source": [
    "# now let read back Hudi table\n",
    "trips_df = spark.read.format(\"hudi\").load(tblpath)"
   ]
  },
  {
   "cell_type": "code",
   "execution_count": null,
   "metadata": {},
   "outputs": [],
   "source": [
    "trips_df"
   ]
  },
  {
   "cell_type": "code",
   "execution_count": 19,
   "metadata": {},
   "outputs": [
    {
     "name": "stdout",
     "output_type": "stream",
     "text": [
      "root\n",
      " |-- _hoodie_commit_time: string (nullable = true)\n",
      " |-- _hoodie_commit_seqno: string (nullable = true)\n",
      " |-- _hoodie_record_key: string (nullable = true)\n",
      " |-- _hoodie_partition_path: string (nullable = true)\n",
      " |-- _hoodie_file_name: string (nullable = true)\n",
      " |-- begin_lat: double (nullable = true)\n",
      " |-- begin_lon: double (nullable = true)\n",
      " |-- driver: string (nullable = true)\n",
      " |-- end_lat: double (nullable = true)\n",
      " |-- end_lon: double (nullable = true)\n",
      " |-- fare: double (nullable = true)\n",
      " |-- rider: string (nullable = true)\n",
      " |-- ts: long (nullable = true)\n",
      " |-- uuid: string (nullable = true)\n",
      " |-- partitionpath: string (nullable = true)\n",
      "\n"
     ]
    }
   ],
   "source": [
    "trips_df.printSchema()"
   ]
  },
  {
   "cell_type": "code",
   "execution_count": 20,
   "metadata": {},
   "outputs": [
    {
     "name": "stdout",
     "output_type": "stream",
     "text": [
      "+-------------------+--------------------+--------------------+----------------------+--------------------+-------------------+-------------------+----------+------------------+------------------+-----------------+---------+-------------+--------------------+--------------------+\n",
      "|_hoodie_commit_time|_hoodie_commit_seqno|  _hoodie_record_key|_hoodie_partition_path|   _hoodie_file_name|          begin_lat|          begin_lon|    driver|           end_lat|           end_lon|             fare|    rider|           ts|                uuid|       partitionpath|\n",
      "+-------------------+--------------------+--------------------+----------------------+--------------------+-------------------+-------------------+----------+------------------+------------------+-----------------+---------+-------------+--------------------+--------------------+\n",
      "|  20220919101243481|20220919101243481...|d7ffede2-cbe4-4c8...|  americas/united_s...|5ce94bba-1c4c-48e...|0.21624150367601136|0.14285051259466197|driver-213|0.5890949624813784|0.0966823831927115|93.56018115236618|rider-213|1662978858494|d7ffede2-cbe4-4c8...|americas/united_s...|\n",
      "|  20220919101243481|20220919101243481...|0c74c29c-d53f-484...|  americas/united_s...|5ce94bba-1c4c-48e...|0.11488393157088261| 0.6273212202489661|driver-213|0.7454678537511295|0.3954939864908973|27.79478688582596|rider-213|1663507472596|0c74c29c-d53f-484...|americas/united_s...|\n",
      "+-------------------+--------------------+--------------------+----------------------+--------------------+-------------------+-------------------+----------+------------------+------------------+-----------------+---------+-------------+--------------------+--------------------+\n",
      "only showing top 2 rows\n",
      "\n"
     ]
    }
   ],
   "source": [
    "trips_df.show(2)"
   ]
  },
  {
   "cell_type": "code",
   "execution_count": 21,
   "metadata": {},
   "outputs": [
    {
     "data": {
      "text/plain": [
       "[('_hoodie_commit_time', 'string'),\n",
       " ('_hoodie_commit_seqno', 'string'),\n",
       " ('_hoodie_record_key', 'string'),\n",
       " ('_hoodie_partition_path', 'string'),\n",
       " ('_hoodie_file_name', 'string'),\n",
       " ('begin_lat', 'double'),\n",
       " ('begin_lon', 'double'),\n",
       " ('driver', 'string'),\n",
       " ('end_lat', 'double'),\n",
       " ('end_lon', 'double'),\n",
       " ('fare', 'double'),\n",
       " ('rider', 'string'),\n",
       " ('ts', 'bigint'),\n",
       " ('uuid', 'string'),\n",
       " ('partitionpath', 'string')]"
      ]
     },
     "execution_count": 21,
     "metadata": {},
     "output_type": "execute_result"
    }
   ],
   "source": [
    "trips_df.dtypes"
   ]
  },
  {
   "cell_type": "code",
   "execution_count": 22,
   "metadata": {},
   "outputs": [],
   "source": [
    "# create table snapshot view to query with spark.sql(...)\n",
    "trips_df.createOrReplaceTempView(\"trips_snapshot\")"
   ]
  },
  {
   "cell_type": "code",
   "execution_count": 23,
   "metadata": {},
   "outputs": [
    {
     "name": "stdout",
     "output_type": "stream",
     "text": [
      "+--------+\n",
      "|count(1)|\n",
      "+--------+\n",
      "|      10|\n",
      "+--------+\n",
      "\n"
     ]
    }
   ],
   "source": [
    "spark.sql(\"SELECT COUNT(*) FROM trips_snapshot\").show()"
   ]
  },
  {
   "cell_type": "code",
   "execution_count": 24,
   "metadata": {},
   "outputs": [
    {
     "name": "stdout",
     "output_type": "stream",
     "text": [
      "+------------------+-------------------+-------------------+-------------+\n",
      "|              fare|          begin_lon|          begin_lat|           ts|\n",
      "+------------------+-------------------+-------------------+-------------+\n",
      "| 93.56018115236618|0.14285051259466197|0.21624150367601136|1662978858494|\n",
      "| 27.79478688582596| 0.6273212202489661|0.11488393157088261|1663507472596|\n",
      "| 33.92216483948643| 0.9694586417848392| 0.1856488085068272|1663335845880|\n",
      "| 64.27696295884016| 0.4923479652912024| 0.5731835407930634|1663271105357|\n",
      "|  43.4923811219014| 0.8779402295427752| 0.6100070562136587|1663441613239|\n",
      "|34.158284716382845|0.46157858450465483| 0.4726905879569653|1663432923115|\n",
      "| 66.62084366450246|0.03844104444445928| 0.0750588760043035|1663413757285|\n",
      "| 41.06290929046368| 0.8192868687714224|  0.651058505660742|1663409926472|\n",
      "+------------------+-------------------+-------------------+-------------+\n",
      "\n"
     ]
    }
   ],
   "source": [
    "spark.sql(\"SELECT fare, begin_lon, begin_lat, ts FROM trips_snapshot WHERE fare > 20.0\").show()"
   ]
  },
  {
   "cell_type": "code",
   "execution_count": 25,
   "metadata": {},
   "outputs": [
    {
     "name": "stdout",
     "output_type": "stream",
     "text": [
      "+-------------------+--------------------+----------------------+---------+----------+------------------+\n",
      "|_hoodie_commit_time|  _hoodie_record_key|_hoodie_partition_path|    rider|    driver|              fare|\n",
      "+-------------------+--------------------+----------------------+---------+----------+------------------+\n",
      "|  20220919101243481|d7ffede2-cbe4-4c8...|  americas/united_s...|rider-213|driver-213| 93.56018115236618|\n",
      "|  20220919101243481|0c74c29c-d53f-484...|  americas/united_s...|rider-213|driver-213| 27.79478688582596|\n",
      "|  20220919101243481|30c19156-4e9a-413...|  americas/united_s...|rider-213|driver-213| 33.92216483948643|\n",
      "|  20220919101243481|5ec24811-45cf-42f...|  americas/united_s...|rider-213|driver-213| 64.27696295884016|\n",
      "|  20220919101243481|a4f6cc61-e81f-463...|  americas/united_s...|rider-213|driver-213|19.179139106643607|\n",
      "|  20220919101243481|cb64f561-b013-4e1...|  americas/brazil/s...|rider-213|driver-213|  43.4923811219014|\n",
      "|  20220919101243481|ae4c3ed5-d4b7-48f...|  americas/brazil/s...|rider-213|driver-213|34.158284716382845|\n",
      "|  20220919101243481|b864dc6f-fc04-465...|  americas/brazil/s...|rider-213|driver-213| 66.62084366450246|\n",
      "|  20220919101243481|16ea150b-a822-44d...|    asia/india/chennai|rider-213|driver-213| 41.06290929046368|\n",
      "|  20220919101243481|e782c951-458b-4d3...|    asia/india/chennai|rider-213|driver-213|17.851135255091155|\n",
      "+-------------------+--------------------+----------------------+---------+----------+------------------+\n",
      "\n"
     ]
    }
   ],
   "source": [
    "spark.sql(\"SELECT _hoodie_commit_time, _hoodie_record_key, _hoodie_partition_path, rider, driver, fare FROM trips_snapshot\").show()"
   ]
  },
  {
   "cell_type": "code",
   "execution_count": 26,
   "metadata": {},
   "outputs": [
    {
     "data": {
      "text/plain": [
       "1663507472596"
      ]
     },
     "execution_count": 26,
     "metadata": {},
     "output_type": "execute_result"
    }
   ],
   "source": [
    "cut_off_ts_row = spark.sql(\"SELECT ts FROM trips_snapshot ORDER BY ts DESC LIMIT 1\").collect()[0]\n",
    "# type(cut_off_ts_row)\n",
    "cut_off_ts = cut_off_ts_row['ts']\n",
    "cut_off_ts"
   ]
  },
  {
   "cell_type": "code",
   "execution_count": 30,
   "metadata": {},
   "outputs": [
    {
     "data": {
      "text/plain": [
       "'2022-09-20'"
      ]
     },
     "execution_count": 30,
     "metadata": {},
     "output_type": "execute_result"
    }
   ],
   "source": [
    "cut_off_dt = datetime.datetime.fromtimestamp(cut_off_ts / 1000.0)\n",
    "cut_off_dt = cut_off_dt + datetime.timedelta(days=2)\n",
    "cut_off_dt_str = cut_off_dt.strftime('%Y-%m-%d')\n",
    "cut_off_dt_str"
   ]
  },
  {
   "cell_type": "code",
   "execution_count": 31,
   "metadata": {},
   "outputs": [],
   "source": [
    "# time travel query\n",
    "# trips_tt_df = spark.read.format(\"hudi\").option(\"as.of.instant\", \"20210728141108\").load(tblpath)\n",
    "\n",
    "# alternate time formats\n",
    "# trips_tt_df = spark.read.format(\"hudi\").option(\"as.of.instant\", \"2021-07-28 14:11:08\").load(tblpath)\n",
    "\n",
    "# it is equal to \"as.of.instant = 2021-07-28 00:00:00\"\n",
    "# trips_tt_df = spark.read.format(\"hudi\").option(\"as.of.instant\", \"2021-07-28\").load(tblpath)\n",
    "\n",
    "trips_tt_df = spark.read.format(\"hudi\").option(\"as.of.instant\", cut_off_dt_str).load(tblpath)"
   ]
  },
  {
   "cell_type": "code",
   "execution_count": 32,
   "metadata": {},
   "outputs": [
    {
     "data": {
      "text/plain": [
       "10"
      ]
     },
     "execution_count": 32,
     "metadata": {},
     "output_type": "execute_result"
    }
   ],
   "source": [
    "trips_tt_df.count()"
   ]
  },
  {
   "cell_type": "code",
   "execution_count": 33,
   "metadata": {},
   "outputs": [],
   "source": [
    "# Update data\n",
    "snapshot_query = \"SELECT begin_lat, begin_lon, driver, end_lat, end_lon, fare, partitionpath, rider, ts, uuid FROM trips_snapshot\""
   ]
  },
  {
   "cell_type": "code",
   "execution_count": 34,
   "metadata": {},
   "outputs": [
    {
     "data": {
      "text/plain": [
       "10"
      ]
     },
     "execution_count": 34,
     "metadata": {},
     "output_type": "execute_result"
    }
   ],
   "source": [
    "snapshot_before_update = spark.sql(snapshot_query)\n",
    "snapshot_before_update.count()"
   ]
  },
  {
   "cell_type": "code",
   "execution_count": 35,
   "metadata": {},
   "outputs": [],
   "source": [
    "data_updates = sc._jvm.org.apache.hudi.QuickstartUtils.convertToStringList(data_gen.generateUpdates(10))"
   ]
  },
  {
   "cell_type": "code",
   "execution_count": 36,
   "metadata": {},
   "outputs": [
    {
     "data": {
      "text/plain": [
       "['{\"ts\": 1663537086521, \"uuid\": \"5ec24811-45cf-42f0-af44-ab1569b41e7e\", \"rider\": \"rider-284\", \"driver\": \"driver-284\", \"begin_lat\": 0.7340133901254792, \"begin_lon\": 0.5142184937933181, \"end_lat\": 0.7814655558162802, \"end_lon\": 0.6592596683641996, \"fare\": 49.527694252432056, \"partitionpath\": \"americas/united_states/san_francisco\"}', '{\"ts\": 1663469311600, \"uuid\": \"ae4c3ed5-d4b7-48ff-94a7-af420eb9eeb1\", \"rider\": \"rider-284\", \"driver\": \"driver-284\", \"begin_lat\": 0.1593867607188556, \"begin_lon\": 0.010872312870502165, \"end_lat\": 0.9808530350038475, \"end_lon\": 0.7963756520507014, \"fare\": 29.47661370147079, \"partitionpath\": \"americas/brazil/sao_paulo\"}', '{\"ts\": 1663010453495, \"uuid\": \"ae4c3ed5-d4b7-48ff-94a7-af420eb9eeb1\", \"rider\": \"rider-284\", \"driver\": \"driver-284\", \"begin_lat\": 0.7180196467760873, \"begin_lon\": 0.13755354862499358, \"end_lat\": 0.3037264771699937, \"end_lon\": 0.2539047155055727, \"fare\": 86.75932789048282, \"partitionpath\": \"americas/brazil/sao_paulo\"}', '{\"ts\": 1663468536672, \"uuid\": \"b864dc6f-fc04-465a-809a-b7f22ac71641\", \"rider\": \"rider-284\", \"driver\": \"driver-284\", \"begin_lat\": 0.6570857443423376, \"begin_lon\": 0.888493603696927, \"end_lat\": 0.9036309069576131, \"end_lon\": 0.37603706507284995, \"fare\": 63.72504913279929, \"partitionpath\": \"americas/brazil/sao_paulo\"}', '{\"ts\": 1663445419934, \"uuid\": \"e782c951-458b-4d31-970d-7b7fcacbc21e\", \"rider\": \"rider-284\", \"driver\": \"driver-284\", \"begin_lat\": 0.08528650347654165, \"begin_lon\": 0.4006983139989222, \"end_lat\": 0.1975324518739051, \"end_lon\": 0.908216792146506, \"fare\": 90.25710109008239, \"partitionpath\": \"asia/india/chennai\"}', '{\"ts\": 1663306498747, \"uuid\": \"30c19156-4e9a-4138-ae9f-b989a24aadf6\", \"rider\": \"rider-284\", \"driver\": \"driver-284\", \"begin_lat\": 0.18294079059016366, \"begin_lon\": 0.19949323322922063, \"end_lat\": 0.24749642418050566, \"end_lon\": 0.1751761658135068, \"fare\": 90.9053809533154, \"partitionpath\": \"americas/united_states/san_francisco\"}', '{\"ts\": 1663420988792, \"uuid\": \"0c74c29c-d53f-4840-a40a-5fb9d90d4a11\", \"rider\": \"rider-284\", \"driver\": \"driver-284\", \"begin_lat\": 0.4777395067707303, \"begin_lon\": 0.3349917833248327, \"end_lat\": 0.9735699951963335, \"end_lon\": 0.8144901865212508, \"fare\": 98.3428192817987, \"partitionpath\": \"americas/united_states/san_francisco\"}', '{\"ts\": 1663440773453, \"uuid\": \"30c19156-4e9a-4138-ae9f-b989a24aadf6\", \"rider\": \"rider-284\", \"driver\": \"driver-284\", \"begin_lat\": 0.014159831486388885, \"begin_lon\": 0.42849372303000655, \"end_lat\": 0.9968531966280192, \"end_lon\": 0.9451993293955782, \"fare\": 2.375516772415698, \"partitionpath\": \"americas/united_states/san_francisco\"}', '{\"ts\": 1663130715279, \"uuid\": \"16ea150b-a822-44d6-b240-421eb9da0d29\", \"rider\": \"rider-284\", \"driver\": \"driver-284\", \"begin_lat\": 0.16603428449020086, \"begin_lon\": 0.6999655248704163, \"end_lat\": 0.5086437188581894, \"end_lon\": 0.6242134749327686, \"fare\": 9.384124531808036, \"partitionpath\": \"asia/india/chennai\"}', '{\"ts\": 1663120292768, \"uuid\": \"ae4c3ed5-d4b7-48ff-94a7-af420eb9eeb1\", \"rider\": \"rider-284\", \"driver\": \"driver-284\", \"begin_lat\": 0.2110206104048945, \"begin_lon\": 0.2783086084578943, \"end_lat\": 0.12154541219767523, \"end_lon\": 0.8700506703716298, \"fare\": 91.99515909032544, \"partitionpath\": \"americas/brazil/sao_paulo\"}']"
      ]
     },
     "execution_count": 36,
     "metadata": {},
     "output_type": "execute_result"
    }
   ],
   "source": [
    "data_updates"
   ]
  },
  {
   "cell_type": "code",
   "execution_count": 37,
   "metadata": {},
   "outputs": [],
   "source": [
    "df = spark.read.json(sc.parallelize(data_updates, 2))"
   ]
  },
  {
   "cell_type": "code",
   "execution_count": 38,
   "metadata": {},
   "outputs": [
    {
     "data": {
      "text/plain": [
       "DataFrame[begin_lat: double, begin_lon: double, driver: string, end_lat: double, end_lon: double, fare: double, partitionpath: string, rider: string, ts: bigint, uuid: string]"
      ]
     },
     "execution_count": 38,
     "metadata": {},
     "output_type": "execute_result"
    }
   ],
   "source": [
    "df"
   ]
  },
  {
   "cell_type": "code",
   "execution_count": 39,
   "metadata": {},
   "outputs": [
    {
     "data": {
      "text/plain": [
       "10"
      ]
     },
     "execution_count": 39,
     "metadata": {},
     "output_type": "execute_result"
    }
   ],
   "source": [
    "df.count()"
   ]
  },
  {
   "cell_type": "code",
   "execution_count": null,
   "metadata": {},
   "outputs": [],
   "source": [
    "df.write.format(\"hudi\").options(**hudi_options).mode(\"append\").save(tblpath)\n",
    "# wait for moment to let Spark process finish\n",
    "# should observe loading progress bar below as cell output"
   ]
  },
  {
   "cell_type": "code",
   "execution_count": 41,
   "metadata": {},
   "outputs": [],
   "source": [
    "# validations\n",
    "assert spark.sql(snapshot_query).count() == 10\n",
    "assert df.count() == 10"
   ]
  },
  {
   "cell_type": "code",
   "execution_count": 42,
   "metadata": {},
   "outputs": [
    {
     "data": {
      "text/plain": [
       "0"
      ]
     },
     "execution_count": 42,
     "metadata": {},
     "output_type": "execute_result"
    }
   ],
   "source": [
    "# intersect might be non-deterministic as it depends on how/when 'data_updates' generated with what randomness\n",
    "# observe how many data points get intersect after updated\n",
    "spark.sql(snapshot_query).intersect(df).count()"
   ]
  },
  {
   "cell_type": "code",
   "execution_count": 43,
   "metadata": {},
   "outputs": [],
   "source": [
    "# validations\n",
    "assert spark.sql(snapshot_query).intersect(df).count() == 0"
   ]
  },
  {
   "cell_type": "code",
   "execution_count": 44,
   "metadata": {},
   "outputs": [],
   "source": [
    "# re-load 'trips_df' from current table state\n",
    "trips_df = spark.read.format(\"hudi\").load(tblpath)"
   ]
  },
  {
   "cell_type": "code",
   "execution_count": 45,
   "metadata": {},
   "outputs": [
    {
     "data": {
      "text/plain": [
       "10"
      ]
     },
     "execution_count": 45,
     "metadata": {},
     "output_type": "execute_result"
    }
   ],
   "source": [
    "trips_df.count()"
   ]
  },
  {
   "cell_type": "code",
   "execution_count": 46,
   "metadata": {},
   "outputs": [
    {
     "name": "stdout",
     "output_type": "stream",
     "text": [
      "root\n",
      " |-- _hoodie_commit_time: string (nullable = true)\n",
      " |-- _hoodie_commit_seqno: string (nullable = true)\n",
      " |-- _hoodie_record_key: string (nullable = true)\n",
      " |-- _hoodie_partition_path: string (nullable = true)\n",
      " |-- _hoodie_file_name: string (nullable = true)\n",
      " |-- begin_lat: double (nullable = true)\n",
      " |-- begin_lon: double (nullable = true)\n",
      " |-- driver: string (nullable = true)\n",
      " |-- end_lat: double (nullable = true)\n",
      " |-- end_lon: double (nullable = true)\n",
      " |-- fare: double (nullable = true)\n",
      " |-- rider: string (nullable = true)\n",
      " |-- ts: long (nullable = true)\n",
      " |-- uuid: string (nullable = true)\n",
      " |-- partitionpath: string (nullable = true)\n",
      "\n"
     ]
    }
   ],
   "source": [
    "trips_df.printSchema()"
   ]
  },
  {
   "cell_type": "code",
   "execution_count": 47,
   "metadata": {},
   "outputs": [],
   "source": [
    "trips_df.createOrReplaceTempView(\"trips_updated\")"
   ]
  },
  {
   "cell_type": "code",
   "execution_count": 50,
   "metadata": {},
   "outputs": [
    {
     "name": "stdout",
     "output_type": "stream",
     "text": [
      "+--------------------+-------------+--------------------+---------+----------+------------------+-------------------+-------------------+-------------------+-------------------+\n",
      "|                uuid|           ts|       partitionpath|    rider|    driver|              fare|          begin_lon|          begin_lat|            end_lon|            end_lat|\n",
      "+--------------------+-------------+--------------------+---------+----------+------------------+-------------------+-------------------+-------------------+-------------------+\n",
      "|e782c951-458b-4d3...|1663239335081|  asia/india/chennai|rider-213|driver-213|17.851135255091155| 0.5644092139040959|   0.40613510977307|0.02698359227182834|  0.798706304941517|\n",
      "|d7ffede2-cbe4-4c8...|1662978858494|americas/united_s...|rider-213|driver-213| 93.56018115236618|0.14285051259466197|0.21624150367601136| 0.0966823831927115| 0.5890949624813784|\n",
      "|cb64f561-b013-4e1...|1663441613239|americas/brazil/s...|rider-213|driver-213|  43.4923811219014| 0.8779402295427752| 0.6100070562136587| 0.5030798142293655| 0.3407870505929602|\n",
      "|b864dc6f-fc04-465...|1663413757285|americas/brazil/s...|rider-213|driver-213| 66.62084366450246|0.03844104444445928| 0.0750588760043035| 0.6346040067610669|0.04376353354538354|\n",
      "|ae4c3ed5-d4b7-48f...|1663432923115|americas/brazil/s...|rider-213|driver-213|34.158284716382845|0.46157858450465483| 0.4726905879569653| 0.9671159942018241|  0.754803407008858|\n",
      "|a4f6cc61-e81f-463...|1663185693754|americas/united_s...|rider-213|driver-213|19.179139106643607| 0.7528268153249502| 0.8742041526408587|  0.362464770874404| 0.9197827128888302|\n",
      "|5ec24811-45cf-42f...|1663271105357|americas/united_s...|rider-213|driver-213| 64.27696295884016| 0.4923479652912024| 0.5731835407930634|0.42520899698713666|0.08988581780930216|\n",
      "|30c19156-4e9a-413...|1663335845880|americas/united_s...|rider-213|driver-213| 33.92216483948643| 0.9694586417848392| 0.1856488085068272|0.25252652214479043|0.38186367037201974|\n",
      "|16ea150b-a822-44d...|1663409926472|  asia/india/chennai|rider-213|driver-213| 41.06290929046368| 0.8192868687714224|  0.651058505660742|0.06224031095826987|0.20714896002914462|\n",
      "|0c74c29c-d53f-484...|1663507472596|americas/united_s...|rider-213|driver-213| 27.79478688582596| 0.6273212202489661|0.11488393157088261| 0.3954939864908973| 0.7454678537511295|\n",
      "+--------------------+-------------+--------------------+---------+----------+------------------+-------------------+-------------------+-------------------+-------------------+\n",
      "\n"
     ]
    }
   ],
   "source": [
    "spark.sql(\"SELECT uuid, ts, partitionpath, rider, driver, fare, begin_lon, begin_lat, end_lon, end_lat FROM trips_snapshot ORDER BY uuid DESC\").show()"
   ]
  },
  {
   "cell_type": "code",
   "execution_count": 51,
   "metadata": {},
   "outputs": [
    {
     "name": "stdout",
     "output_type": "stream",
     "text": [
      "+--------------------+-------------+--------------------+---------+----------+------------------+--------------------+--------------------+-------------------+------------------+\n",
      "|                uuid|           ts|       partitionpath|    rider|    driver|              fare|           begin_lon|           begin_lat|            end_lon|           end_lat|\n",
      "+--------------------+-------------+--------------------+---------+----------+------------------+--------------------+--------------------+-------------------+------------------+\n",
      "|e782c951-458b-4d3...|1663445419934|  asia/india/chennai|rider-284|driver-284| 90.25710109008239|  0.4006983139989222| 0.08528650347654165|  0.908216792146506|0.1975324518739051|\n",
      "|d7ffede2-cbe4-4c8...|1662978858494|americas/united_s...|rider-213|driver-213| 93.56018115236618| 0.14285051259466197| 0.21624150367601136| 0.0966823831927115|0.5890949624813784|\n",
      "|cb64f561-b013-4e1...|1663441613239|americas/brazil/s...|rider-213|driver-213|  43.4923811219014|  0.8779402295427752|  0.6100070562136587| 0.5030798142293655|0.3407870505929602|\n",
      "|b864dc6f-fc04-465...|1663468536672|americas/brazil/s...|rider-284|driver-284| 63.72504913279929|   0.888493603696927|  0.6570857443423376|0.37603706507284995|0.9036309069576131|\n",
      "|ae4c3ed5-d4b7-48f...|1663469311600|americas/brazil/s...|rider-284|driver-284| 29.47661370147079|0.010872312870502165|  0.1593867607188556| 0.7963756520507014|0.9808530350038475|\n",
      "|a4f6cc61-e81f-463...|1663185693754|americas/united_s...|rider-213|driver-213|19.179139106643607|  0.7528268153249502|  0.8742041526408587|  0.362464770874404|0.9197827128888302|\n",
      "|5ec24811-45cf-42f...|1663537086521|americas/united_s...|rider-284|driver-284|49.527694252432056|  0.5142184937933181|  0.7340133901254792| 0.6592596683641996|0.7814655558162802|\n",
      "|30c19156-4e9a-413...|1663440773453|americas/united_s...|rider-284|driver-284| 2.375516772415698| 0.42849372303000655|0.014159831486388885| 0.9451993293955782|0.9968531966280192|\n",
      "|16ea150b-a822-44d...|1663130715279|  asia/india/chennai|rider-284|driver-284| 9.384124531808036|  0.6999655248704163| 0.16603428449020086| 0.6242134749327686|0.5086437188581894|\n",
      "|0c74c29c-d53f-484...|1663420988792|americas/united_s...|rider-284|driver-284|  98.3428192817987|  0.3349917833248327|  0.4777395067707303| 0.8144901865212508|0.9735699951963335|\n",
      "+--------------------+-------------+--------------------+---------+----------+------------------+--------------------+--------------------+-------------------+------------------+\n",
      "\n"
     ]
    }
   ],
   "source": [
    "spark.sql(\"SELECT uuid, ts, partitionpath, rider, driver, fare, begin_lon, begin_lat, end_lon, end_lat FROM trips_updated ORDER BY uuid DESC\").show()"
   ]
  },
  {
   "cell_type": "code",
   "execution_count": null,
   "metadata": {},
   "outputs": [],
   "source": []
  }
 ],
 "metadata": {
  "kernelspec": {
   "display_name": "Python 3 (ipykernel)",
   "language": "python",
   "name": "python3"
  },
  "language_info": {
   "codemirror_mode": {
    "name": "ipython",
    "version": 3
   },
   "file_extension": ".py",
   "mimetype": "text/x-python",
   "name": "python",
   "nbconvert_exporter": "python",
   "pygments_lexer": "ipython3",
   "version": "3.10.6"
  }
 },
 "nbformat": 4,
 "nbformat_minor": 4
}
